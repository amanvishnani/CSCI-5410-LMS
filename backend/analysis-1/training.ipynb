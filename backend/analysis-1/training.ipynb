{
 "cells": [
  {
   "cell_type": "code",
   "execution_count": null,
   "metadata": {},
   "outputs": [],
   "source": [
    "!pip install -Iv scikit-learn==0.23.1"
   ]
  },
  {
   "cell_type": "code",
   "execution_count": 68,
   "metadata": {},
   "outputs": [],
   "source": [
    "from sklearn.feature_extraction.text import CountVectorizer\n",
    "import pandas as pd\n",
    "from sklearn.datasets import fetch_20newsgroups"
   ]
  },
  {
   "cell_type": "code",
   "execution_count": 69,
   "metadata": {},
   "outputs": [],
   "source": [
    "twenty_train = fetch_20newsgroups(subset='train', shuffle=True, random_state=42)\n",
    "texts = twenty_train.data"
   ]
  },
  {
   "cell_type": "code",
   "execution_count": 70,
   "metadata": {},
   "outputs": [],
   "source": [
    "vec = CountVectorizer()\n",
    "matrix = vec.fit_transform(texts)"
   ]
  },
  {
   "cell_type": "code",
   "execution_count": 71,
   "metadata": {},
   "outputs": [
    {
     "data": {
      "text/plain": [
       "KMeans(n_clusters=4)"
      ]
     },
     "execution_count": 71,
     "metadata": {},
     "output_type": "execute_result"
    }
   ],
   "source": [
    "from sklearn.cluster import KMeans\n",
    "\n",
    "number_of_clusters=4\n",
    "km = KMeans(n_clusters=number_of_clusters)\n",
    "# Normally people fit the matrix\n",
    "km.fit(matrix)"
   ]
  },
  {
   "cell_type": "code",
   "execution_count": 72,
   "metadata": {},
   "outputs": [
    {
     "data": {
      "text/plain": [
       "array([0], dtype=int32)"
      ]
     },
     "execution_count": 72,
     "metadata": {},
     "output_type": "execute_result"
    }
   ],
   "source": [
    "km.predict(vec.transform([\"I love eating ice cream in parks\"]))"
   ]
  },
  {
   "cell_type": "code",
   "execution_count": 73,
   "metadata": {},
   "outputs": [
    {
     "data": {
      "text/plain": [
       "array([0], dtype=int32)"
      ]
     },
     "execution_count": 73,
     "metadata": {},
     "output_type": "execute_result"
    }
   ],
   "source": [
    "km.predict(vec.transform([\"Please find the attachements and let me know the results\"]))"
   ]
  },
  {
   "cell_type": "code",
   "execution_count": 74,
   "metadata": {},
   "outputs": [],
   "source": [
    "import pickle"
   ]
  },
  {
   "cell_type": "code",
   "execution_count": 75,
   "metadata": {},
   "outputs": [],
   "source": [
    "file = open(\"model.pkl\", 'wb')\n",
    "pickle.dump(km, file)\n",
    "\n",
    "file = open(\"vectorizer.pkl\", 'wb')\n",
    "pickle.dump(vec, file)"
   ]
  },
  {
   "cell_type": "code",
   "execution_count": 76,
   "metadata": {},
   "outputs": [
    {
     "name": "stdout",
     "output_type": "stream",
     "text": [
      "total 8100\n",
      "drwxr-xr-x 13 jupyter jupyter    4096 Jul 24 15:23 .\n",
      "drwxr-xr-x  3 root    root       4096 Jul 24 13:54 ..\n",
      "-rw-r--r--  1 jupyter jupyter     220 May 15  2017 .bash_logout\n",
      "-rw-r--r--  1 jupyter jupyter    3526 May 15  2017 .bashrc\n",
      "drwxr-xr-x  6 jupyter jupyter    4096 Jul 24 14:41 .cache\n",
      "drwxr-xr-x  4 jupyter jupyter    4096 Jul 24 13:55 .config\n",
      "drwxr-xr-x  2 jupyter jupyter    4096 Jul 24 13:54 .docker\n",
      "drwxr-xr-x  2 jupyter jupyter    4096 Jul 24 14:59 .gsutil\n",
      "-rw-r--r--  1 jupyter jupyter     209 Jul 24 14:40 .ipynb\n",
      "drwxr-xr-x  2 jupyter jupyter    4096 Jul 24 14:41 .ipynb_checkpoints\n",
      "drwxr-xr-x  5 jupyter jupyter    4096 Jul 24 13:55 .ipython\n",
      "drwxr-xr-x  3 jupyter jupyter    4096 Jul 24 13:55 .jupyter\n",
      "drwxr-xr-x  3 jupyter jupyter    4096 Jul 24 13:54 .local\n",
      "-rw-r--r--  1 jupyter jupyter 4209362 Jul 24 15:24 model.pkl\n",
      "drwxr-xr-x  3 jupyter jupyter    4096 Jul 24 14:44 nltk_data\n",
      "-rw-r--r--  1 jupyter jupyter     675 May 15  2017 .profile\n",
      "drwxr-xr-x  2 jupyter jupyter    4096 Jul 24 14:00 scikit_learn_data\n",
      "-rw-r--r--  1 jupyter jupyter 1340954 Jul 24 15:23 training.ipynb\n",
      "drwxr-xr-x  6 jupyter jupyter    4096 Jul 24 13:54 tutorials\n",
      "-rw-r--r--  1 jupyter jupyter 2666746 Jul 24 15:24 vectorizer.pkl\n"
     ]
    }
   ],
   "source": [
    "!ls -al"
   ]
  },
  {
   "cell_type": "code",
   "execution_count": 77,
   "metadata": {},
   "outputs": [
    {
     "name": "stdout",
     "output_type": "stream",
     "text": [
      "gs://artifacts.csci-5410-av.appspot.com/\n",
      "gs://av_lab_model/\n",
      "gs://csci-5410-av.appspot.com/\n",
      "gs://csci-5410-av_cloudbuild/\n",
      "gs://group3-analysis-1/\n",
      "gs://kmeans-train-data/\n",
      "gs://staging.csci-5410-av.appspot.com/\n"
     ]
    }
   ],
   "source": [
    "!gsutil ls "
   ]
  },
  {
   "cell_type": "code",
   "execution_count": 78,
   "metadata": {},
   "outputs": [
    {
     "name": "stdout",
     "output_type": "stream",
     "text": [
      "gs://kmeans-train-data/model.pkl\n",
      "gs://kmeans-train-data/vectorizer.pkl\n"
     ]
    }
   ],
   "source": [
    "!gsutil ls -r gs://kmeans-train-data/**"
   ]
  },
  {
   "cell_type": "code",
   "execution_count": 79,
   "metadata": {},
   "outputs": [
    {
     "name": "stdout",
     "output_type": "stream",
     "text": [
      "Copying file://model.pkl [Content-Type=application/octet-stream]...\n",
      "- [1 files][  4.0 MiB/  4.0 MiB]                                                \n",
      "Operation completed over 1 objects/4.0 MiB.                                      \n"
     ]
    }
   ],
   "source": [
    "!gsutil cp model.pkl gs://kmeans-train-data/"
   ]
  },
  {
   "cell_type": "code",
   "execution_count": 80,
   "metadata": {},
   "outputs": [
    {
     "name": "stdout",
     "output_type": "stream",
     "text": [
      "Copying file://vectorizer.pkl [Content-Type=application/octet-stream]...\n",
      "- [1 files][  2.5 MiB/  2.5 MiB]                                                \n",
      "Operation completed over 1 objects/2.5 MiB.                                      \n"
     ]
    }
   ],
   "source": [
    "!gsutil cp vectorizer.pkl gs://kmeans-train-data/"
   ]
  },
  {
   "cell_type": "code",
   "execution_count": null,
   "metadata": {},
   "outputs": [],
   "source": []
  },
  {
   "cell_type": "code",
   "execution_count": null,
   "metadata": {},
   "outputs": [],
   "source": []
  }
 ],
 "metadata": {
  "environment": {
   "name": "common-cpu.m52",
   "type": "gcloud",
   "uri": "gcr.io/deeplearning-platform-release/base-cpu:m52"
  },
  "kernelspec": {
   "display_name": "Python 3",
   "language": "python",
   "name": "python3"
  },
  "language_info": {
   "codemirror_mode": {
    "name": "ipython",
    "version": 3
   },
   "file_extension": ".py",
   "mimetype": "text/x-python",
   "name": "python",
   "nbconvert_exporter": "python",
   "pygments_lexer": "ipython3",
   "version": "3.7.6"
  }
 },
 "nbformat": 4,
 "nbformat_minor": 4
}
